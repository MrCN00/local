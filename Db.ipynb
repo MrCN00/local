{
 "cells": [
  {
   "cell_type": "code",
   "execution_count": 1,
   "id": "5209a8f8",
   "metadata": {},
   "outputs": [],
   "source": [
    "import pymongo"
   ]
  },
  {
   "cell_type": "code",
   "execution_count": 1,
   "id": "8464fba1",
   "metadata": {},
   "outputs": [],
   "source": [
    "from pymongo import MongoClient"
   ]
  },
  {
   "cell_type": "code",
   "execution_count": 2,
   "id": "f0ec67a2",
   "metadata": {},
   "outputs": [],
   "source": [
    "#Connect with the portnumber and the host\n",
    "client=MongoClient('mongodb://127.0.0.1:27017/')"
   ]
  },
  {
   "cell_type": "code",
   "execution_count": 4,
   "id": "234a1da0",
   "metadata": {},
   "outputs": [
    {
     "data": {
      "text/plain": [
       "['admin',\n",
       " 'config',\n",
       " 'data',\n",
       " 'databasee',\n",
       " 'employee',\n",
       " 'groceries',\n",
       " 'local',\n",
       " 'new',\n",
       " 'student']"
      ]
     },
     "execution_count": 4,
     "metadata": {},
     "output_type": "execute_result"
    }
   ],
   "source": [
    "client.list_database_names()"
   ]
  },
  {
   "cell_type": "code",
   "execution_count": 4,
   "id": "63a83d84",
   "metadata": {},
   "outputs": [],
   "source": [
    "db=client['groceries']"
   ]
  },
  {
   "cell_type": "code",
   "execution_count": 5,
   "id": "0cd65578",
   "metadata": {},
   "outputs": [
    {
     "data": {
      "text/plain": [
       "['inventory', 'invemtory']"
      ]
     },
     "execution_count": 5,
     "metadata": {},
     "output_type": "execute_result"
    }
   ],
   "source": [
    "db.list_collection_names()"
   ]
  },
  {
   "cell_type": "code",
   "execution_count": 66,
   "id": "a08eaf62",
   "metadata": {},
   "outputs": [],
   "source": [
    "inv=db['inventory']"
   ]
  },
  {
   "cell_type": "code",
   "execution_count": 20,
   "id": "10c8937b",
   "metadata": {},
   "outputs": [
    {
     "data": {
      "text/plain": [
       "3"
      ]
     },
     "execution_count": 20,
     "metadata": {},
     "output_type": "execute_result"
    }
   ],
   "source": [
    "inv.count_documents({})"
   ]
  },
  {
   "cell_type": "code",
   "execution_count": 24,
   "id": "d3d26fa7",
   "metadata": {},
   "outputs": [
    {
     "data": {
      "text/plain": [
       "Collection(Database(MongoClient(host=['127.0.0.1:27017'], document_class=dict, tz_aware=False, connect=True), 'groceries'), 'inventory')"
      ]
     },
     "execution_count": 24,
     "metadata": {},
     "output_type": "execute_result"
    }
   ],
   "source": [
    "inv"
   ]
  },
  {
   "cell_type": "code",
   "execution_count": 28,
   "id": "1b962ec7",
   "metadata": {},
   "outputs": [],
   "source": [
    "db=client['data']"
   ]
  },
  {
   "cell_type": "code",
   "execution_count": 41,
   "id": "f4318045",
   "metadata": {},
   "outputs": [
    {
     "data": {
      "text/plain": [
       "Collection(Database(MongoClient(host=['127.0.0.1:27017'], document_class=dict, tz_aware=False, connect=True), 'data'), 'ma')"
      ]
     },
     "execution_count": 41,
     "metadata": {},
     "output_type": "execute_result"
    }
   ],
   "source": [
    "db.ma"
   ]
  },
  {
   "cell_type": "code",
   "execution_count": 39,
   "id": "15f61c51",
   "metadata": {},
   "outputs": [
    {
     "data": {
      "text/plain": [
       "<pymongo.results.InsertOneResult at 0x24302757a30>"
      ]
     },
     "execution_count": 39,
     "metadata": {},
     "output_type": "execute_result"
    }
   ],
   "source": [
    "db.col.insert_one({'1doc':'its value'})"
   ]
  },
  {
   "cell_type": "code",
   "execution_count": 43,
   "id": "13efdbe5",
   "metadata": {},
   "outputs": [
    {
     "data": {
      "text/plain": [
       "<pymongo.results.InsertOneResult at 0x24302759c10>"
      ]
     },
     "execution_count": 43,
     "metadata": {},
     "output_type": "execute_result"
    }
   ],
   "source": [
    "db.tb.insert_one({'1doc':'its value'})"
   ]
  },
  {
   "cell_type": "code",
   "execution_count": 44,
   "id": "468b4c90",
   "metadata": {},
   "outputs": [
    {
     "data": {
      "text/plain": [
       "['tb', 'empinfo', 'col']"
      ]
     },
     "execution_count": 44,
     "metadata": {},
     "output_type": "execute_result"
    }
   ],
   "source": [
    "db.list_collection_names()"
   ]
  },
  {
   "cell_type": "code",
   "execution_count": 46,
   "id": "6d53356e",
   "metadata": {},
   "outputs": [],
   "source": [
    "t=db['tb']"
   ]
  },
  {
   "cell_type": "code",
   "execution_count": 50,
   "id": "19018fae",
   "metadata": {},
   "outputs": [
    {
     "data": {
      "text/plain": [
       "3"
      ]
     },
     "execution_count": 50,
     "metadata": {},
     "output_type": "execute_result"
    }
   ],
   "source": [
    "t.count_documents({'1doc':'its value'})"
   ]
  },
  {
   "cell_type": "code",
   "execution_count": 52,
   "id": "776fe921",
   "metadata": {},
   "outputs": [],
   "source": [
    "db=client['employee']"
   ]
  },
  {
   "cell_type": "code",
   "execution_count": 54,
   "id": "81ae9112",
   "metadata": {},
   "outputs": [
    {
     "data": {
      "text/plain": [
       "['names']"
      ]
     },
     "execution_count": 54,
     "metadata": {},
     "output_type": "execute_result"
    }
   ],
   "source": [
    "db.list_collection_names()"
   ]
  },
  {
   "cell_type": "code",
   "execution_count": 57,
   "id": "0977d372",
   "metadata": {},
   "outputs": [],
   "source": [
    "s=db['names']"
   ]
  },
  {
   "cell_type": "code",
   "execution_count": 59,
   "id": "8c3137d5",
   "metadata": {},
   "outputs": [
    {
     "data": {
      "text/plain": [
       "0"
      ]
     },
     "execution_count": 59,
     "metadata": {},
     "output_type": "execute_result"
    }
   ],
   "source": [
    "s.count_documents({})"
   ]
  },
  {
   "cell_type": "code",
   "execution_count": 61,
   "id": "4e5611bd",
   "metadata": {},
   "outputs": [],
   "source": [
    "db=client['new']"
   ]
  },
  {
   "cell_type": "code",
   "execution_count": 6,
   "id": "17367e96",
   "metadata": {},
   "outputs": [
    {
     "data": {
      "text/plain": [
       "3"
      ]
     },
     "execution_count": 6,
     "metadata": {},
     "output_type": "execute_result"
    }
   ],
   "source": [
    "db.inventory.count_documents({})"
   ]
  },
  {
   "cell_type": "code",
   "execution_count": 7,
   "id": "afc0d7dd",
   "metadata": {},
   "outputs": [
    {
     "data": {
      "text/plain": [
       "{'_id': ObjectId('63d91770dab3a4f479c43ca1'),\n",
       " 'item': 'journal',\n",
       " 'qty': 25,\n",
       " 'tags': ['blank', 'red'],\n",
       " 'size': {'h': 14, 'w': 21, 'uom': 'cm'}}"
      ]
     },
     "execution_count": 7,
     "metadata": {},
     "output_type": "execute_result"
    }
   ],
   "source": [
    "db.inventory.find_one()"
   ]
  },
  {
   "cell_type": "code",
   "execution_count": 8,
   "id": "4b5b474b",
   "metadata": {},
   "outputs": [
    {
     "name": "stdout",
     "output_type": "stream",
     "text": [
      "{'_id': ObjectId('63d91770dab3a4f479c43ca1'), 'item': 'journal', 'qty': 25, 'tags': ['blank', 'red'], 'size': {'h': 14, 'w': 21, 'uom': 'cm'}}\n",
      "{'_id': ObjectId('63d91770dab3a4f479c43ca2'), 'item': 'mat', 'qty': 85, 'tags': ['gray'], 'size': {'h': 27.9, 'w': 35.5, 'uom': 'cm'}}\n",
      "{'_id': ObjectId('63d91770dab3a4f479c43ca3'), 'item': 'mousepad', 'qty': 25, 'tags': ['gel', 'blue'], 'size': {'h': 19, 'w': 22.85, 'uom': 'cm'}}\n"
     ]
    }
   ],
   "source": [
    "for i in db.inventory.find():\n",
    "    print(i)"
   ]
  },
  {
   "cell_type": "code",
   "execution_count": 9,
   "id": "e9f3e067",
   "metadata": {},
   "outputs": [
    {
     "name": "stdout",
     "output_type": "stream",
     "text": [
      "{'_id': ObjectId('63d91770dab3a4f479c43ca3'), 'item': 'mousepad', 'qty': 25, 'tags': ['gel', 'blue'], 'size': {'h': 19, 'w': 22.85, 'uom': 'cm'}}\n"
     ]
    }
   ],
   "source": [
    "for i in db.inventory.find({'tags':'gel'}):\n",
    "    print(i)"
   ]
  },
  {
   "cell_type": "code",
   "execution_count": 89,
   "id": "5b054e82",
   "metadata": {},
   "outputs": [
    {
     "name": "stdout",
     "output_type": "stream",
     "text": [
      "{'_id': ObjectId('63d91770dab3a4f479c43ca1'), 'item': 'journal', 'qty': 25, 'tags': ['blank', 'red'], 'size': {'h': 14, 'w': 21, 'uom': 'cm'}}\n",
      "{'_id': ObjectId('63d91770dab3a4f479c43ca2'), 'item': 'mat', 'qty': 85, 'tags': ['gray'], 'size': {'h': 27.9, 'w': 35.5, 'uom': 'cm'}}\n"
     ]
    }
   ],
   "source": [
    "for i in db.inventory.find().limit(2):\n",
    "    print(i)"
   ]
  },
  {
   "cell_type": "code",
   "execution_count": 12,
   "id": "69ccfbac",
   "metadata": {},
   "outputs": [
    {
     "name": "stdout",
     "output_type": "stream",
     "text": [
      "{'item': 'journal', 'qty': 25}\n",
      "{'item': 'mat', 'qty': 85}\n",
      "{'item': 'mousepad', 'qty': 25}\n"
     ]
    }
   ],
   "source": [
    "for i in db.inventory.find({},{'_id':0,'item':1,'qty':1}):\n",
    "    print(i)"
   ]
  },
  {
   "cell_type": "code",
   "execution_count": 99,
   "id": "a3040886",
   "metadata": {},
   "outputs": [
    {
     "data": {
      "text/plain": [
       "Collection(Database(MongoClient(host=['127.0.0.1:27017'], document_class=dict, tz_aware=False, connect=True), 'groceries'), 'inventory.1')"
      ]
     },
     "execution_count": 99,
     "metadata": {},
     "output_type": "execute_result"
    }
   ],
   "source": [
    "db.inventory[1] # not possible like we access an array, but all the documents in a collection represent like array THOUGHT"
   ]
  },
  {
   "cell_type": "code",
   "execution_count": 9,
   "id": "af308df4",
   "metadata": {},
   "outputs": [],
   "source": [
    "db=client['employee']"
   ]
  },
  {
   "cell_type": "code",
   "execution_count": 11,
   "id": "649d2a50",
   "metadata": {},
   "outputs": [
    {
     "data": {
      "text/plain": [
       "['names']"
      ]
     },
     "execution_count": 11,
     "metadata": {},
     "output_type": "execute_result"
    }
   ],
   "source": [
    "db.list_collection_names()"
   ]
  },
  {
   "cell_type": "code",
   "execution_count": 14,
   "id": "ea4c6281",
   "metadata": {},
   "outputs": [
    {
     "data": {
      "text/plain": [
       "<pymongo.results.InsertOneResult at 0x17e4b6b0130>"
      ]
     },
     "execution_count": 14,
     "metadata": {},
     "output_type": "execute_result"
    }
   ],
   "source": [
    "db.names.insert_one({'first':'ram','last':'kumar','age':27,'dept':'EEE'})"
   ]
  },
  {
   "cell_type": "code",
   "execution_count": 17,
   "id": "7934b29c",
   "metadata": {},
   "outputs": [],
   "source": [
    "f=db.names.find_one()"
   ]
  },
  {
   "cell_type": "code",
   "execution_count": 19,
   "id": "993170a5",
   "metadata": {},
   "outputs": [
    {
     "name": "stdout",
     "output_type": "stream",
     "text": [
      "{'_id': ObjectId('63da5ae7d55ab6ae54dfc4bd'), 'first': 'ram', 'last': 'kumar', 'age': 27, 'dept': 'EEE'}\n"
     ]
    }
   ],
   "source": [
    "print(f)"
   ]
  },
  {
   "cell_type": "code",
   "execution_count": 22,
   "id": "bf7b952d",
   "metadata": {},
   "outputs": [
    {
     "name": "stdout",
     "output_type": "stream",
     "text": [
      "{'first': 'ram', 'last': 'kumar', 'age': 27, 'dept': 'EEE'}\n",
      "{'first': 'ram', 'last': 'kumar', 'age': 27, 'dept': 'EEE'}\n"
     ]
    }
   ],
   "source": [
    "for i in db.names.find({},{'_id':0}):\n",
    "    print(i)"
   ]
  },
  {
   "cell_type": "code",
   "execution_count": 36,
   "id": "47f007be",
   "metadata": {},
   "outputs": [],
   "source": [
    "record=[\n",
    "    {'first':'rahul','last':'kumar','age':43,'dept':'CIV'},\n",
    "    {'first':'sumath','last':'kumar','age':29,'dept':'ECE'},\n",
    "    {'first':'venkatesh','last':'santhosh','age':27,'dept':'IT'},\n",
    "    {'first':'ram','last':'mohan','age':37,'dept':'MEC'}\n",
    "]"
   ]
  },
  {
   "cell_type": "code",
   "execution_count": 37,
   "id": "8536f483",
   "metadata": {},
   "outputs": [
    {
     "data": {
      "text/plain": [
       "<pymongo.results.InsertManyResult at 0x17e4bc384f0>"
      ]
     },
     "execution_count": 37,
     "metadata": {},
     "output_type": "execute_result"
    }
   ],
   "source": [
    "db.names.insert_many(record)"
   ]
  },
  {
   "cell_type": "code",
   "execution_count": 38,
   "id": "7a97e4be",
   "metadata": {},
   "outputs": [
    {
     "name": "stdout",
     "output_type": "stream",
     "text": [
      "{'first': 'ram', 'last': 'kumar', 'age': 27, 'dept': 'EEE'}\n",
      "{'first': 'ram', 'last': 'kumar', 'age': 27, 'dept': 'EEE'}\n",
      "{'first': 'mohan', 'last': 'kumar', 'age': 27, 'dept': 'EEE'}\n",
      "{'first': 'rahul', 'last': 'kumar', 'age': 24, 'dept': 'ECE'}\n",
      "{'first': 'ram', 'last': 'santhosh', 'age': 27, 'dept': 'IT'}\n",
      "{'first': 'rahul', 'last': 'kumar', 'age': 43, 'dept': 'CIV'}\n",
      "{'first': 'sumath', 'last': 'kumar', 'age': 29, 'dept': 'ECE'}\n",
      "{'first': 'venkatesh', 'last': 'santhosh', 'age': 27, 'dept': 'IT'}\n",
      "{'first': 'ram', 'last': 'mohan', 'age': 37, 'dept': 'MEC'}\n"
     ]
    }
   ],
   "source": [
    "for i in db.names.find({},{'_id':0}): #the first parenthesis is for getting all the data and second is for specifing \n",
    "    print(i)"
   ]
  },
  {
   "cell_type": "code",
   "execution_count": 35,
   "id": "c0427134",
   "metadata": {},
   "outputs": [
    {
     "name": "stdout",
     "output_type": "stream",
     "text": [
      "{'_id': ObjectId('63da5ae7d55ab6ae54dfc4bd'), 'first': 'ram', 'last': 'kumar', 'age': 27, 'dept': 'EEE'}\n",
      "{'_id': ObjectId('63da5aebd55ab6ae54dfc4be'), 'first': 'ram', 'last': 'kumar', 'age': 27, 'dept': 'EEE'}\n",
      "{'_id': ObjectId('63da5bc6d55ab6ae54dfc4bf'), 'first': 'mohan', 'last': 'kumar', 'age': 27, 'dept': 'EEE'}\n",
      "{'_id': ObjectId('63da5bc6d55ab6ae54dfc4c0'), 'first': 'rahul', 'last': 'kumar', 'age': 24, 'dept': 'ECE'}\n"
     ]
    }
   ],
   "source": [
    "#equality condition just like where\n",
    "for i in db.names.find({'last':'kumar'}): #here in first parenthesis we are specific abt the filter\n",
    "    print(i)"
   ]
  },
  {
   "cell_type": "code",
   "execution_count": 41,
   "id": "3d47ccae",
   "metadata": {},
   "outputs": [
    {
     "name": "stdout",
     "output_type": "stream",
     "text": [
      "{'first': 'rahul', 'last': 'kumar', 'age': 24, 'dept': 'ECE'}\n",
      "{'first': 'ram', 'last': 'santhosh', 'age': 27, 'dept': 'IT'}\n",
      "{'first': 'sumath', 'last': 'kumar', 'age': 29, 'dept': 'ECE'}\n",
      "{'first': 'venkatesh', 'last': 'santhosh', 'age': 27, 'dept': 'IT'}\n",
      "{'first': 'ram', 'last': 'mohan', 'age': 37, 'dept': 'MEC'}\n"
     ]
    }
   ],
   "source": [
    "#query documnents using query operators($lt,$gt,$in)\n",
    "for i in db.names.find({'dept':{'$in':['IT','MEC','ECE']}},{'_id':0}):\n",
    "    print(i)"
   ]
  },
  {
   "cell_type": "code",
   "execution_count": 43,
   "id": "6126d446",
   "metadata": {},
   "outputs": [
    {
     "name": "stdout",
     "output_type": "stream",
     "text": [
      "{'first': 'rahul', 'last': 'kumar', 'age': 24, 'dept': 'ECE'}\n",
      "{'first': 'ram', 'last': 'santhosh', 'age': 27, 'dept': 'IT'}\n",
      "{'first': 'sumath', 'last': 'kumar', 'age': 29, 'dept': 'ECE'}\n",
      "{'first': 'venkatesh', 'last': 'santhosh', 'age': 27, 'dept': 'IT'}\n"
     ]
    }
   ],
   "source": [
    "for i in db.names.find({'dept':{'$in':['IT','MEC','ECE']},'age':{'$lt':30}},{'_id':0}):\n",
    "    print(i)"
   ]
  },
  {
   "cell_type": "code",
   "execution_count": 44,
   "id": "d89ac510",
   "metadata": {},
   "outputs": [
    {
     "name": "stdout",
     "output_type": "stream",
     "text": [
      "{'first': 'ram', 'last': 'santhosh', 'age': 27, 'dept': 'IT'}\n",
      "{'first': 'sumath', 'last': 'kumar', 'age': 29, 'dept': 'ECE'}\n",
      "{'first': 'venkatesh', 'last': 'santhosh', 'age': 27, 'dept': 'IT'}\n",
      "{'first': 'ram', 'last': 'mohan', 'age': 37, 'dept': 'MEC'}\n"
     ]
    }
   ],
   "source": [
    "for i in db.names.find({'dept':{'$in':['IT','MEC','ECE']},'age':{'$gt':25}},{'_id':0}):\n",
    "    print(i)"
   ]
  },
  {
   "cell_type": "code",
   "execution_count": 53,
   "id": "562493bd",
   "metadata": {},
   "outputs": [
    {
     "name": "stdout",
     "output_type": "stream",
     "text": [
      "{'first': 'ram', 'last': 'santhosh', 'age': 27, 'dept': 'IT'}\n",
      "{'first': 'venkatesh', 'last': 'santhosh', 'age': 27, 'dept': 'IT'}\n",
      "{'first': 'ram', 'last': 'mohan', 'age': 37, 'dept': 'MEC'}\n"
     ]
    }
   ],
   "source": [
    "for i in db.names.find({'$or':[{'last':'santhosh'},{'dept':'MEC'}]},{'_id':0}):\n",
    "    print(i)"
   ]
  },
  {
   "cell_type": "code",
   "execution_count": 54,
   "id": "953c1c65",
   "metadata": {},
   "outputs": [
    {
     "name": "stdout",
     "output_type": "stream",
     "text": [
      "{'first': 'ram', 'last': 'mohan', 'age': 37, 'dept': 'MEC'}\n"
     ]
    }
   ],
   "source": [
    "for i in db.names.find({'$or':[{'last':'santhosh'},{'dept':'MEC'}],'age':{'$gt':30}},{'_id':0}):\n",
    "    print(i)"
   ]
  },
  {
   "cell_type": "code",
   "execution_count": 60,
   "id": "e0d60503",
   "metadata": {},
   "outputs": [
    {
     "name": "stdout",
     "output_type": "stream",
     "text": [
      "{'first': 'ram', 'last': 'santhosh', 'age': 27, 'dept': 'IT'}\n",
      "{'first': 'venkatesh', 'last': 'santhosh', 'age': 27, 'dept': 'IT'}\n"
     ]
    }
   ],
   "source": [
    "for i in db.names.find({'$and':[{'last':'santhosh'},{'dept':'IT'}],'age':{'$lt':30}},{'_id':0}):\n",
    "    print(i)"
   ]
  },
  {
   "cell_type": "code",
   "execution_count": 63,
   "id": "ee7795da",
   "metadata": {},
   "outputs": [
    {
     "data": {
      "text/plain": [
       "['inventory', 'invemtory']"
      ]
     },
     "execution_count": 63,
     "metadata": {},
     "output_type": "execute_result"
    }
   ],
   "source": [
    "db=client['groceries']\n",
    "db.list_collection_names()"
   ]
  },
  {
   "cell_type": "code",
   "execution_count": 65,
   "id": "790937b7",
   "metadata": {},
   "outputs": [],
   "source": [
    "db.inventory.insert_many( [\n",
    "   { 'item': \"journal\", 'qty': 25, 'size': { 'h': 14, 'w': 21,'uom': \"cm\" }, 'status': \"A\" },\n",
    "   { 'item': \"notebook\", 'qty': 50,'size': { 'h': 8.5, 'w': 11,'uom': \"in\" },'status': \"A\" },\n",
    "   { 'item': \"paper\", 'qty': 100, 'size': { 'h': 8.5, 'w': 11,'uom': \"in\" },'status': \"D\" },\n",
    "   { 'item': \"planner\", 'qty': 75, 'size': { 'h': 22.85,'w': 30,'uom': \"cm\" },'status': \"D\" },\n",
    "   { 'item': \"postcard\", 'qty': 45, 'size': { 'h': 10, 'w': 15.25,'uom': \"cm\" },'status': \"A\" }\n",
    "]);\n",
    "    "
   ]
  },
  {
   "cell_type": "code",
   "execution_count": 70,
   "id": "4c0def51",
   "metadata": {},
   "outputs": [
    {
     "name": "stdout",
     "output_type": "stream",
     "text": [
      "{'item': 'journal', 'qty': 25, 'tags': ['blank', 'red'], 'size': {'h': 14, 'w': 21, 'uom': 'cm'}}\n",
      "{'item': 'mat', 'qty': 85, 'tags': ['gray'], 'size': {'h': 27.9, 'w': 35.5, 'uom': 'cm'}}\n",
      "{'item': 'mousepad', 'qty': 25, 'tags': ['gel', 'blue'], 'size': {'h': 19, 'w': 22.85, 'uom': 'cm'}}\n",
      "{'item': 'journal', 'qty': 25, 'size': {'h': 14, 'w': 21, 'uom': 'cm'}, 'status': 'A'}\n",
      "{'item': 'notebook', 'qty': 50, 'size': {'h': 8.5, 'w': 11, 'uom': 'in'}, 'status': 'A'}\n",
      "{'item': 'paper', 'qty': 100, 'size': {'h': 8.5, 'w': 11, 'uom': 'in'}, 'status': 'D'}\n",
      "{'item': 'planner', 'qty': 75, 'size': {'h': 22.85, 'w': 30, 'uom': 'cm'}, 'status': 'D'}\n",
      "{'item': 'postcard', 'qty': 45, 'size': {'h': 10, 'w': 15.25, 'uom': 'cm'}, 'status': 'A'}\n"
     ]
    }
   ],
   "source": [
    "for i in db.inventory.find({},{'_id':0}):\n",
    "    print(i)"
   ]
  },
  {
   "cell_type": "code",
   "execution_count": 81,
   "id": "cf402247",
   "metadata": {},
   "outputs": [
    {
     "name": "stdout",
     "output_type": "stream",
     "text": [
      "{'item': 'planner', 'size': {'h': 22.85, 'w': 30, 'uom': 'cm'}}\n"
     ]
    }
   ],
   "source": [
    "for i in db.inventory.find({'size': { 'h': 22.85,'w': 30,'uom': \"cm\" }},{'_id':0,'status':0,'qty':0}):\n",
    "    print(i)"
   ]
  },
  {
   "cell_type": "code",
   "execution_count": 88,
   "id": "5061fe73",
   "metadata": {},
   "outputs": [
    {
     "data": {
      "text/plain": [
       "8"
      ]
     },
     "execution_count": 88,
     "metadata": {},
     "output_type": "execute_result"
    }
   ],
   "source": [
    "db.inventory.count_documents({})"
   ]
  },
  {
   "cell_type": "markdown",
   "id": "5c4ff075",
   "metadata": {},
   "source": [
    "### Updating document"
   ]
  },
  {
   "cell_type": "code",
   "execution_count": 104,
   "id": "2e297d37",
   "metadata": {},
   "outputs": [
    {
     "data": {
      "text/plain": [
       "<pymongo.results.UpdateResult at 0x17e4bdac6d0>"
      ]
     },
     "execution_count": 104,
     "metadata": {},
     "output_type": "execute_result"
    }
   ],
   "source": [
    "db.inventory.update_one({'item':'planner'},\n",
    "                        {'$set':{'size.uom':'km','status':'K'},\n",
    "                         '$currentDate':{'latestmodification':True}})"
   ]
  },
  {
   "cell_type": "code",
   "execution_count": 105,
   "id": "580f3896",
   "metadata": {},
   "outputs": [
    {
     "name": "stdout",
     "output_type": "stream",
     "text": [
      "{'item': 'journal', 'qty': 25, 'tags': ['blank', 'red'], 'size': {'h': 14, 'w': 21, 'uom': 'cm'}}\n",
      "{'item': 'mat', 'qty': 85, 'tags': ['gray'], 'size': {'h': 27.9, 'w': 35.5, 'uom': 'cm'}}\n",
      "{'item': 'mousepad', 'qty': 25, 'tags': ['gel', 'blue'], 'size': {'h': 19, 'w': 22.85, 'uom': 'cm'}}\n",
      "{'item': 'journal', 'qty': 25, 'size': {'h': 14, 'w': 21, 'uom': 'cm'}, 'status': 'A'}\n",
      "{'item': 'notebook', 'qty': 50, 'size': {'h': 8.5, 'w': 11, 'uom': 'in'}, 'status': 'A'}\n",
      "{'item': 'paper', 'qty': 100, 'size': {'h': 8.5, 'w': 11, 'uom': 'in'}, 'status': 'D'}\n",
      "{'item': 'planner', 'qty': 75, 'size': {'h': 22.85, 'w': 30, 'uom': 'km'}, 'status': 'K', 'latestmodification': datetime.datetime(2023, 2, 1, 14, 19, 50, 114000)}\n",
      "{'item': 'postcard', 'qty': 45, 'size': {'h': 10, 'w': 15.25, 'uom': 'cm'}, 'status': 'A'}\n"
     ]
    }
   ],
   "source": [
    "for i in db.inventory.find({},{'_id':0}):\n",
    "    print(i)"
   ]
  },
  {
   "cell_type": "code",
   "execution_count": 5,
   "id": "34f3436d",
   "metadata": {},
   "outputs": [
    {
     "data": {
      "text/plain": [
       "['admin',\n",
       " 'config',\n",
       " 'data',\n",
       " 'databasee',\n",
       " 'employee',\n",
       " 'groceries',\n",
       " 'local',\n",
       " 'new',\n",
       " 'student']"
      ]
     },
     "execution_count": 5,
     "metadata": {},
     "output_type": "execute_result"
    }
   ],
   "source": [
    "client.list_database_names()"
   ]
  },
  {
   "cell_type": "code",
   "execution_count": 14,
   "id": "f17133a1",
   "metadata": {},
   "outputs": [
    {
     "data": {
      "text/plain": [
       "['inventory', 'invemtory']"
      ]
     },
     "execution_count": 14,
     "metadata": {},
     "output_type": "execute_result"
    }
   ],
   "source": [
    "db=client['groceries']\n",
    "db.list_collection_names()"
   ]
  },
  {
   "cell_type": "code",
   "execution_count": 15,
   "id": "5d9585b4",
   "metadata": {},
   "outputs": [],
   "source": [
    "inv=db.inventory"
   ]
  },
  {
   "cell_type": "code",
   "execution_count": 10,
   "id": "38eafb22",
   "metadata": {},
   "outputs": [
    {
     "data": {
      "text/plain": [
       "{'_id': ObjectId('63d91770dab3a4f479c43ca1'),\n",
       " 'item': 'journal',\n",
       " 'qty': 25,\n",
       " 'tags': ['blank', 'red'],\n",
       " 'size': {'h': 14, 'w': 21, 'uom': 'cm'}}"
      ]
     },
     "execution_count": 10,
     "metadata": {},
     "output_type": "execute_result"
    }
   ],
   "source": [
    "inv.find_one()"
   ]
  },
  {
   "cell_type": "code",
   "execution_count": 11,
   "id": "cbe8fabe",
   "metadata": {},
   "outputs": [
    {
     "name": "stdout",
     "output_type": "stream",
     "text": [
      "{'item': 'journal', 'qty': 25, 'tags': ['blank', 'red'], 'size': {'h': 14, 'w': 21, 'uom': 'cm'}}\n",
      "{'item': 'mat', 'qty': 85, 'tags': ['gray'], 'size': {'h': 27.9, 'w': 35.5, 'uom': 'cm'}}\n",
      "{'item': 'mousepad', 'qty': 25, 'tags': ['gel', 'blue'], 'size': {'h': 19, 'w': 22.85, 'uom': 'cm'}}\n",
      "{'item': 'journal', 'qty': 25, 'size': {'h': 14, 'w': 21, 'uom': 'cm'}, 'status': 'A'}\n",
      "{'item': 'notebook', 'qty': 50, 'size': {'h': 8.5, 'w': 11, 'uom': 'in'}, 'status': 'A'}\n",
      "{'item': 'paper', 'qty': 100, 'size': {'h': 8.5, 'w': 11, 'uom': 'in'}, 'status': 'D'}\n",
      "{'item': 'planner', 'qty': 75, 'size': {'h': 22.85, 'w': 30, 'uom': 'km'}, 'status': 'K', 'latestmodification': datetime.datetime(2023, 2, 1, 14, 19, 50, 114000)}\n",
      "{'item': 'postcard', 'qty': 45, 'size': {'h': 10, 'w': 15.25, 'uom': 'cm'}, 'status': 'A'}\n"
     ]
    }
   ],
   "source": [
    "for i in inv.find({},{'_id':0}):\n",
    "    print(i)"
   ]
  },
  {
   "cell_type": "code",
   "execution_count": 19,
   "id": "cdbb76ec",
   "metadata": {},
   "outputs": [
    {
     "data": {
      "text/plain": [
       "<pymongo.results.UpdateResult at 0x1c8c0169430>"
      ]
     },
     "execution_count": 19,
     "metadata": {},
     "output_type": "execute_result"
    }
   ],
   "source": [
    "inv.update_many(\n",
    "    {'qty':{'$lt':50}},\n",
    "    {'$set':{'size.uom':'in','status':'P'},\n",
    "    '$currentDate':{'LatestModified':True} \n",
    "    }\n",
    "    \n",
    "\n",
    ")"
   ]
  },
  {
   "cell_type": "code",
   "execution_count": 15,
   "id": "4a4c0946",
   "metadata": {},
   "outputs": [
    {
     "name": "stdout",
     "output_type": "stream",
     "text": [
      "{'item': 'journal', 'qty': 25, 'tags': ['blank', 'red'], 'size': {'h': 14, 'w': 21, 'uom': 'in'}, 'LatestModified': datetime.datetime(2023, 2, 2, 12, 16, 10, 78000), 'status': 'P'}\n",
      "{'item': 'mat', 'qty': 85, 'tags': ['gray'], 'size': {'h': 27.9, 'w': 35.5, 'uom': 'cm'}}\n",
      "{'item': 'mousepad', 'qty': 25, 'tags': ['gel', 'blue'], 'size': {'h': 19, 'w': 22.85, 'uom': 'in'}, 'LatestModified': datetime.datetime(2023, 2, 2, 12, 16, 10, 78000), 'status': 'P'}\n",
      "{'item': 'journal', 'qty': 25, 'size': {'h': 14, 'w': 21, 'uom': 'in'}, 'status': 'P', 'LatestModified': datetime.datetime(2023, 2, 2, 12, 16, 10, 78000)}\n",
      "{'item': 'notebook', 'qty': 50, 'size': {'h': 8.5, 'w': 11, 'uom': 'in'}, 'status': 'A'}\n",
      "{'item': 'paper', 'qty': 100, 'size': {'h': 8.5, 'w': 11, 'uom': 'in'}, 'status': 'D'}\n",
      "{'item': 'planner', 'qty': 75, 'size': {'h': 22.85, 'w': 30, 'uom': 'km'}, 'status': 'K', 'latestmodification': datetime.datetime(2023, 2, 1, 14, 19, 50, 114000)}\n",
      "{'item': 'postcard', 'qty': 45, 'size': {'h': 10, 'w': 15.25, 'uom': 'in'}, 'status': 'P', 'LatestModified': datetime.datetime(2023, 2, 2, 12, 16, 10, 78000)}\n"
     ]
    }
   ],
   "source": [
    "for i in inv.find({},{'_id':0}):\n",
    "    print(i)"
   ]
  },
  {
   "cell_type": "code",
   "execution_count": 23,
   "id": "f4e3df6a",
   "metadata": {},
   "outputs": [
    {
     "data": {
      "text/plain": [
       "<pymongo.results.UpdateResult at 0x1c8c0107be0>"
      ]
     },
     "execution_count": 23,
     "metadata": {},
     "output_type": "execute_result"
    }
   ],
   "source": [
    "inv.update_many(\n",
    "    {'tags':'gel'},\n",
    "    {'$set':{'size.uom':'in','status':'BB'},\n",
    "    '$currentDate':{'LatestModified':True} \n",
    "    })"
   ]
  },
  {
   "cell_type": "code",
   "execution_count": 26,
   "id": "44b9162a",
   "metadata": {},
   "outputs": [
    {
     "name": "stdout",
     "output_type": "stream",
     "text": [
      "{'tags': ['blank', 'red']}\n",
      "{'tags': ['gray']}\n",
      "{'tags': ['gel', 'blue']}\n",
      "{}\n",
      "{}\n",
      "{}\n",
      "{}\n",
      "{}\n"
     ]
    }
   ],
   "source": [
    "for i in inv.find({},{'_id':0,'tags':1}):\n",
    "    print(i)"
   ]
  },
  {
   "cell_type": "markdown",
   "id": "9e010600",
   "metadata": {},
   "source": [
    "### Replace records\n",
    "##### the entire document will be replaced here "
   ]
  },
  {
   "cell_type": "code",
   "execution_count": 31,
   "id": "e1196fb8",
   "metadata": {},
   "outputs": [
    {
     "name": "stdout",
     "output_type": "stream",
     "text": [
      "{'item': 'paper', 'instock': [{'warehouse': 'B', 'qty': 35}]}\n"
     ]
    }
   ],
   "source": [
    "for i in inv.find({'item':'paper'},{'_id':0}):\n",
    "    print(i)"
   ]
  },
  {
   "cell_type": "code",
   "execution_count": 32,
   "id": "c2c0a38e",
   "metadata": {},
   "outputs": [
    {
     "data": {
      "text/plain": [
       "<pymongo.results.UpdateResult at 0x1c8c015f400>"
      ]
     },
     "execution_count": 32,
     "metadata": {},
     "output_type": "execute_result"
    }
   ],
   "source": [
    "inv.replace_one(\n",
    "\t\t{'item':'paper'},\n",
    "    \t{'item':'paper','instock':[{'warehouse':'A','qty':55,'warehouse':'B','qty':35}]}\n",
    "\n",
    ")"
   ]
  },
  {
   "cell_type": "markdown",
   "id": "82c2158e",
   "metadata": {},
   "source": [
    "#### Aggerating and grouping"
   ]
  },
  {
   "cell_type": "code",
   "execution_count": 4,
   "id": "7df1f2cc",
   "metadata": {},
   "outputs": [],
   "source": [
    "db= client['Students']  \n",
    "    \n"
   ]
  },
  {
   "cell_type": "code",
   "execution_count": 36,
   "id": "e9f20382",
   "metadata": {},
   "outputs": [
    {
     "data": {
      "text/plain": [
       "<pymongo.results.InsertManyResult at 0x1c8bc595e80>"
      ]
     },
     "execution_count": 36,
     "metadata": {},
     "output_type": "execute_result"
    }
   ],
   "source": [
    "# Access collection of the database  \n",
    "score=db['studentscores']  \n",
    "data = [ \n",
    "    {\"user\":\"Krish\", \"subject\":\"Database\", \"score\":80}, \n",
    "    {\"user\":\"Amit\",  \"subject\":\"JavaScript\", \"score\":90}, \n",
    "    {\"user\":\"Amit\",  \"title\":\"Database\", \"score\":85}, \n",
    "    {\"user\":\"Krish\",  \"title\":\"JavaScript\", \"score\":75}, \n",
    "    {\"user\":\"Amit\",  \"title\":\"Data Science\", \"score\":60},\n",
    "    {\"user\":\"Krish\",  \"title\":\"Data Science\", \"score\":95}] \n",
    "  \n",
    "db.score.insert_many(data)"
   ]
  },
  {
   "cell_type": "code",
   "execution_count": 5,
   "id": "3ec12b11",
   "metadata": {},
   "outputs": [],
   "source": [
    "sc=db.score"
   ]
  },
  {
   "cell_type": "code",
   "execution_count": 6,
   "id": "2a65362a",
   "metadata": {},
   "outputs": [
    {
     "data": {
      "text/plain": [
       "{'_id': ObjectId('63dbb2f9c05a9d2b55b33a1b'),\n",
       " 'user': 'Krish',\n",
       " 'subject': 'Database',\n",
       " 'score': 80}"
      ]
     },
     "execution_count": 6,
     "metadata": {},
     "output_type": "execute_result"
    }
   ],
   "source": [
    "sc.find_one()"
   ]
  },
  {
   "cell_type": "code",
   "execution_count": 49,
   "id": "7f209a1e",
   "metadata": {},
   "outputs": [],
   "source": [
    "tot=sc.aggregate(\n",
    "\t\t\t\t[\n",
    "                    {'$group':{'_id':'$score','total':{'$sum':1}}\n",
    "         \n",
    "                    }\n",
    "                ]\n",
    ")"
   ]
  },
  {
   "cell_type": "code",
   "execution_count": 7,
   "id": "8f01a6d4",
   "metadata": {},
   "outputs": [],
   "source": [
    "tot=sc.aggregate(\n",
    "\t\t\t\t[\n",
    "                    {'$group':{'_id':'$user','total':{'$sum':1}}\n",
    "         \n",
    "                    }\n",
    "                ]\n",
    ")"
   ]
  },
  {
   "cell_type": "code",
   "execution_count": 8,
   "id": "a38330d4",
   "metadata": {},
   "outputs": [
    {
     "name": "stdout",
     "output_type": "stream",
     "text": [
      "{'_id': 'Amit', 'total': 3}\n",
      "{'_id': 'Krish', 'total': 3}\n"
     ]
    }
   ],
   "source": [
    "for i in tot:\n",
    "    print(i)"
   ]
  },
  {
   "cell_type": "code",
   "execution_count": 9,
   "id": "d83d7496",
   "metadata": {},
   "outputs": [
    {
     "data": {
      "text/plain": [
       "<pymongo.results.UpdateResult at 0x20a9721de50>"
      ]
     },
     "execution_count": 9,
     "metadata": {},
     "output_type": "execute_result"
    }
   ],
   "source": [
    "sc.update_many({},{'$rename':{'title':'subject'}})"
   ]
  },
  {
   "cell_type": "code",
   "execution_count": 10,
   "id": "7b9d4769",
   "metadata": {},
   "outputs": [
    {
     "name": "stdout",
     "output_type": "stream",
     "text": [
      "{'user': 'Krish', 'subject': 'Database', 'score': 80}\n",
      "{'user': 'Amit', 'subject': 'JavaScript', 'score': 90}\n",
      "{'user': 'Amit', 'score': 85, 'subject': 'Database'}\n",
      "{'user': 'Krish', 'score': 75, 'subject': 'JavaScript'}\n",
      "{'user': 'Amit', 'score': 60, 'subject': 'Data Science'}\n",
      "{'user': 'Krish', 'score': 95, 'subject': 'Data Science'}\n"
     ]
    }
   ],
   "source": [
    "for i in sc.find({},{'_id':0}):\n",
    "    print(i)"
   ]
  },
  {
   "cell_type": "code",
   "execution_count": 12,
   "id": "7ebf7bf1",
   "metadata": {},
   "outputs": [],
   "source": [
    "tot=sc.aggregate(\n",
    "\t\t\t\t[\n",
    "                    {'$group':{'_id':'$subject','total':{'$sum':1}}\n",
    "         \n",
    "                    }\n",
    "                ]\n",
    ")"
   ]
  },
  {
   "cell_type": "code",
   "execution_count": 13,
   "id": "ffde2b9f",
   "metadata": {},
   "outputs": [
    {
     "name": "stdout",
     "output_type": "stream",
     "text": [
      "{'_id': 'Data Science', 'total': 2}\n",
      "{'_id': 'Database', 'total': 2}\n",
      "{'_id': 'JavaScript', 'total': 2}\n"
     ]
    }
   ],
   "source": [
    "for i in tot:\n",
    "    print(i)"
   ]
  },
  {
   "cell_type": "code",
   "execution_count": 29,
   "id": "3e154876",
   "metadata": {},
   "outputs": [],
   "source": [
    "invgr= inv.aggregate([\n",
    "    {'$group':{'_id':'$status','total':{'$sum':1}}}\n",
    "])"
   ]
  },
  {
   "cell_type": "code",
   "execution_count": 30,
   "id": "ab96aa55",
   "metadata": {},
   "outputs": [
    {
     "name": "stdout",
     "output_type": "stream",
     "text": [
      "{'_id': 'BB', 'total': 2}\n",
      "{'_id': 'P', 'total': 3}\n",
      "{'_id': None, 'total': 2}\n",
      "{'_id': 'A', 'total': 1}\n"
     ]
    }
   ],
   "source": [
    "for i in invgr:\n",
    "    print(i)"
   ]
  },
  {
   "cell_type": "code",
   "execution_count": 26,
   "id": "8d39bd38",
   "metadata": {},
   "outputs": [
    {
     "name": "stdout",
     "output_type": "stream",
     "text": [
      "{'item': 'journal', 'qty': 25, 'tags': ['blank', 'red'], 'size': {'h': 14, 'w': 21, 'uom': 'in'}, 'LatestModified': datetime.datetime(2023, 2, 2, 12, 20, 8, 559000), 'status': 'P'}\n",
      "{'item': 'mat', 'qty': 85, 'tags': ['gray'], 'size': {'h': 27.9, 'w': 35.5, 'uom': 'cm'}}\n",
      "{'item': 'mousepad', 'qty': 25, 'tags': ['gel', 'blue'], 'size': {'h': 19, 'w': 22.85, 'uom': 'in'}, 'LatestModified': datetime.datetime(2023, 2, 2, 12, 22, 17, 485000), 'status': 'BB'}\n",
      "{'item': 'journal', 'qty': 25, 'size': {'h': 14, 'w': 21, 'uom': 'in'}, 'status': 'P', 'LatestModified': datetime.datetime(2023, 2, 2, 12, 20, 8, 560000)}\n",
      "{'item': 'notebook', 'qty': 50, 'size': {'h': 8.5, 'w': 11, 'uom': 'in'}, 'status': 'A'}\n",
      "{'item': 'paper', 'instock': [{'warehouse': 'B', 'qty': 35}]}\n",
      "{'item': 'planner', 'qty': 75, 'size': {'h': 22.85, 'w': 30, 'uom': 'in'}, 'status': 'BB', 'latestmodification': datetime.datetime(2023, 2, 1, 14, 19, 50, 114000), 'LatestModified': datetime.datetime(2023, 2, 2, 12, 21, 9, 158000)}\n",
      "{'item': 'postcard', 'qty': 45, 'size': {'h': 10, 'w': 15.25, 'uom': 'in'}, 'status': 'P', 'LatestModified': datetime.datetime(2023, 2, 2, 12, 20, 8, 560000)}\n"
     ]
    }
   ],
   "source": [
    "for i in inv.find({},{'_id':0}):\n",
    "    print(i)"
   ]
  },
  {
   "cell_type": "code",
   "execution_count": 33,
   "id": "b671d242",
   "metadata": {},
   "outputs": [],
   "source": [
    "totscore=sc.aggregate(\n",
    "\t\t\t\t[\n",
    "                    {'$group':{'_id':'$user','total':{'$sum':'$score'}}\n",
    "         \n",
    "                    }\n",
    "                ]\n",
    ")"
   ]
  },
  {
   "cell_type": "code",
   "execution_count": 35,
   "id": "74e9275a",
   "metadata": {},
   "outputs": [],
   "source": [
    "for i in totscore:\n",
    "    print(i)"
   ]
  },
  {
   "cell_type": "code",
   "execution_count": 66,
   "id": "19d0887f",
   "metadata": {},
   "outputs": [],
   "source": [
    "avgscore= sc.aggregate([\n",
    "    {\"$group\":{'_id':'$user','Avereage_marks':{\"$avg\":'$score'}}}\n",
    "])"
   ]
  },
  {
   "cell_type": "code",
   "execution_count": 67,
   "id": "442f8533",
   "metadata": {},
   "outputs": [
    {
     "name": "stdout",
     "output_type": "stream",
     "text": [
      "{'_id': 'Amit', 'Avereage_marks': 78.33333333333333}\n",
      "{'_id': 'Krish', 'Avereage_marks': 83.33333333333333}\n"
     ]
    }
   ],
   "source": [
    "for i in avgscore:\n",
    "    print(i)\n"
   ]
  },
  {
   "cell_type": "code",
   "execution_count": 68,
   "id": "3c260c9c",
   "metadata": {},
   "outputs": [],
   "source": [
    "for i in avgscore:\n",
    "    print(type(avgscore))"
   ]
  },
  {
   "cell_type": "code",
   "execution_count": 62,
   "id": "d5c0082e",
   "metadata": {},
   "outputs": [],
   "source": [
    "import datetime as dt"
   ]
  },
  {
   "cell_type": "code",
   "execution_count": 43,
   "id": "9f062c0d",
   "metadata": {},
   "outputs": [],
   "source": [
    "### Create a new collection\n",
    "data=[{ \"_id\" : 1, \"item\" : \"abc\", \"price\" : 10, \"quantity\" : 2, \"date\" : dt.datetime.utcnow()},\n",
    "{ \"_id\" : 2, \"item\" : \"jkl\", \"price\" : 20, \"quantity\" : 1, \"date\" : dt.datetime.utcnow() },\n",
    "{ \"_id\" : 3, \"item\" : \"xyz\", \"price\" : 5, \"quantity\" : 5, \"date\" : dt.datetime.utcnow() },\n",
    "{ \"_id\" : 4, \"item\" : \"abc\", \"price\" : 10, \"quantity\" : 10, \"date\" : dt.datetime.utcnow() },\n",
    "{ \"_id\" : 5, \"item\" : \"xyz\", \"price\" : 5, \"quantity\" : 10, \"date\" :dt.datetime.utcnow() }]"
   ]
  },
  {
   "cell_type": "code",
   "execution_count": 45,
   "id": "0b885932",
   "metadata": {},
   "outputs": [
    {
     "data": {
      "text/plain": [
       "['Students',\n",
       " 'admin',\n",
       " 'config',\n",
       " 'data',\n",
       " 'databasee',\n",
       " 'employee',\n",
       " 'groceries',\n",
       " 'local',\n",
       " 'new',\n",
       " 'student']"
      ]
     },
     "execution_count": 45,
     "metadata": {},
     "output_type": "execute_result"
    }
   ],
   "source": [
    "client.list_database_names()"
   ]
  },
  {
   "cell_type": "code",
   "execution_count": 85,
   "id": "a8435ef9",
   "metadata": {},
   "outputs": [],
   "source": [
    "db=client['groceries']"
   ]
  },
  {
   "cell_type": "code",
   "execution_count": 86,
   "id": "ae646e85",
   "metadata": {},
   "outputs": [
    {
     "data": {
      "text/plain": [
       "<pymongo.results.InsertManyResult at 0x20a9909d760>"
      ]
     },
     "execution_count": 86,
     "metadata": {},
     "output_type": "execute_result"
    }
   ],
   "source": [
    "db.data.insert_many(data)"
   ]
  },
  {
   "cell_type": "code",
   "execution_count": 89,
   "id": "83e1f865",
   "metadata": {},
   "outputs": [
    {
     "data": {
      "text/plain": [
       "['store', 'inventory', 'invemtory']"
      ]
     },
     "execution_count": 89,
     "metadata": {},
     "output_type": "execute_result"
    }
   ],
   "source": [
    "db.list_collection_names()"
   ]
  },
  {
   "cell_type": "code",
   "execution_count": 88,
   "id": "2225e0fe",
   "metadata": {},
   "outputs": [],
   "source": [
    "db.data.drop()"
   ]
  },
  {
   "cell_type": "code",
   "execution_count": 90,
   "id": "97f4aa69",
   "metadata": {},
   "outputs": [],
   "source": [
    "da=db.store"
   ]
  },
  {
   "cell_type": "code",
   "execution_count": 92,
   "id": "01e0e904",
   "metadata": {},
   "outputs": [
    {
     "name": "stdout",
     "output_type": "stream",
     "text": [
      "{'_id': 1, 'item': 'abc', 'price': 10, 'quantity': 2, 'date': datetime.datetime(2023, 2, 3, 5, 43, 33, 208000)}\n",
      "{'_id': 2, 'item': 'jkl', 'price': 20, 'quantity': 1, 'date': datetime.datetime(2023, 2, 3, 5, 43, 33, 208000)}\n",
      "{'_id': 3, 'item': 'xyz', 'price': 5, 'quantity': 5, 'date': datetime.datetime(2023, 2, 3, 5, 43, 33, 208000)}\n",
      "{'_id': 4, 'item': 'abc', 'price': 10, 'quantity': 10, 'date': datetime.datetime(2023, 2, 3, 5, 43, 33, 208000)}\n",
      "{'_id': 5, 'item': 'xyz', 'price': 5, 'quantity': 10, 'date': datetime.datetime(2023, 2, 3, 5, 43, 33, 208000)}\n"
     ]
    }
   ],
   "source": [
    "for i in da.find({},{'-id':0}):\n",
    "    print(i)"
   ]
  },
  {
   "cell_type": "code",
   "execution_count": 82,
   "id": "9406b6eb",
   "metadata": {},
   "outputs": [
    {
     "data": {
      "text/plain": [
       "{'ok': 1.0}"
      ]
     },
     "execution_count": 82,
     "metadata": {},
     "output_type": "execute_result"
    }
   ],
   "source": [
    "db.data.rename(\"store\",dropTarget = True)"
   ]
  },
  {
   "cell_type": "code",
   "execution_count": 83,
   "id": "330db20b",
   "metadata": {},
   "outputs": [
    {
     "data": {
      "text/plain": [
       "['store', 'inventory', 'invemtory']"
      ]
     },
     "execution_count": 83,
     "metadata": {},
     "output_type": "execute_result"
    }
   ],
   "source": [
    "db.list_collection_names()"
   ]
  },
  {
   "cell_type": "code",
   "execution_count": 101,
   "id": "4c114d7b",
   "metadata": {},
   "outputs": [
    {
     "name": "stdout",
     "output_type": "stream",
     "text": [
      "{'_id': 'jkl', 'Total_Avg_Qty': 20.0, 'Average_quantity': 1.0}\n",
      "{'_id': 'xyz', 'Total_Avg_Qty': 37.5, 'Average_quantity': 7.5}\n",
      "{'_id': 'abc', 'Total_Avg_Qty': 60.0, 'Average_quantity': 6.0}\n"
     ]
    }
   ],
   "source": [
    "# Finding the total average quantity price of the data\n",
    "\n",
    "totavg= da.aggregate([\n",
    "    {'$group':{'_id':'$item',\n",
    "               'Total_Avg_Qty':{'$avg':{'$multiply':['$price','$quantity']}},\n",
    "    \t\t\t'Average_quantity':{'$avg':'$quantity'}}\n",
    "    }\n",
    "])\n",
    "for i in totavg:\n",
    "    print(i)"
   ]
  },
  {
   "cell_type": "code",
   "execution_count": 102,
   "id": "f99903ba",
   "metadata": {},
   "outputs": [],
   "source": [
    "#### $Project\n",
    "\n",
    "data=[{\n",
    "  \"_id\" : 1,\n",
    "  \"title\": \"abc123\",\n",
    "  \"isbn\": \"0001122223334\",\n",
    "  \"author\": { \"last\": \"zzz\", \"first\": \"aaa\" },\n",
    "  \"copies\": 5\n",
    "},\n",
    "{\n",
    "  \"_id\" : 2,\n",
    "  \"title\": \"Baked Goods\",\n",
    "  \"isbn\": \"9999999999999\",\n",
    "  \"author\": { \"last\": \"xyz\", \"first\": \"abc\", \"middle\": \"\" },\n",
    "  \"copies\": 2\n",
    "}\n",
    "]"
   ]
  },
  {
   "cell_type": "code",
   "execution_count": 103,
   "id": "65b48cd6",
   "metadata": {},
   "outputs": [],
   "source": [
    "bo=db['Books']"
   ]
  },
  {
   "cell_type": "code",
   "execution_count": 109,
   "id": "db4ff036",
   "metadata": {},
   "outputs": [
    {
     "data": {
      "text/plain": [
       "['store', 'Books', 'inventory', 'invemtory']"
      ]
     },
     "execution_count": 109,
     "metadata": {},
     "output_type": "execute_result"
    }
   ],
   "source": [
    "db.list_collection_names()"
   ]
  },
  {
   "cell_type": "code",
   "execution_count": 104,
   "id": "4e5d4436",
   "metadata": {},
   "outputs": [
    {
     "data": {
      "text/plain": [
       "<pymongo.results.InsertManyResult at 0x20a99136130>"
      ]
     },
     "execution_count": 104,
     "metadata": {},
     "output_type": "execute_result"
    }
   ],
   "source": [
    "bo.insert_many(data)"
   ]
  },
  {
   "cell_type": "code",
   "execution_count": 110,
   "id": "c970ccd3",
   "metadata": {},
   "outputs": [
    {
     "name": "stdout",
     "output_type": "stream",
     "text": [
      "{'title': 'abc123', 'isbn': '0001122223334', 'author': {'last': 'zzz', 'first': 'aaa'}, 'copies': 5}\n",
      "{'title': 'Baked Goods', 'isbn': '9999999999999', 'author': {'last': 'xyz', 'first': 'abc', 'middle': ''}, 'copies': 2}\n"
     ]
    }
   ],
   "source": [
    "for i in bo.find({},{'_id':0}):\n",
    "    print(i)"
   ]
  },
  {
   "cell_type": "code",
   "execution_count": 114,
   "id": "fe6e3710",
   "metadata": {},
   "outputs": [],
   "source": [
    "pro= bo.aggregate([\n",
    "    {'$project':{'title':1, 'copies':1,'_id':0}}\n",
    "])"
   ]
  },
  {
   "cell_type": "code",
   "execution_count": 116,
   "id": "0a17cca6",
   "metadata": {},
   "outputs": [],
   "source": [
    "for i in pro:\n",
    "    print(i)"
   ]
  },
  {
   "cell_type": "code",
   "execution_count": null,
   "id": "1c972a23",
   "metadata": {},
   "outputs": [],
   "source": []
  }
 ],
 "metadata": {
  "kernelspec": {
   "display_name": "Python 3 (ipykernel)",
   "language": "python",
   "name": "python3"
  },
  "language_info": {
   "codemirror_mode": {
    "name": "ipython",
    "version": 3
   },
   "file_extension": ".py",
   "mimetype": "text/x-python",
   "name": "python",
   "nbconvert_exporter": "python",
   "pygments_lexer": "ipython3",
   "version": "3.9.7"
  }
 },
 "nbformat": 4,
 "nbformat_minor": 5
}
